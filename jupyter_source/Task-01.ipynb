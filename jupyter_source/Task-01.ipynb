{
 "cells": [
  {
   "cell_type": "code",
   "execution_count": 1,
   "metadata": {
    "ExecuteTime": {
     "start_time": "2023-09-27T11:44:42.181727Z",
     "end_time": "2023-09-27T11:44:44.887353Z"
    }
   },
   "outputs": [
    {
     "data": {
      "text/plain": "              group             submitter  \\\n0           Physics        Sung-Chul Yoon   \n1       Mathematics  Patrice Ntumba Pungu   \n2           Physics          Zaqarashvili   \n3           Physics        Sezgin Ayg\\\"un   \n4           Physics        Antonio Pipino   \n...             ...                   ...   \n170613      Physics         Mikhail Lukin   \n170614      Physics            Wen-Xiu Ma   \n170615      Physics       Victor Enolskii   \n170616      Physics   Pierre van Moerbeke   \n170617      Physics         David Fairlie   \n\n                                                    title  \\\n0       Remnant evolution after a carbon-oxygen white ...   \n1       Cofibrations in the Category of Frolicher Spac...   \n2       Torsional oscillations of longitudinally inhom...   \n3       On the Energy-Momentum Problem in Static Einst...   \n4       The Formation of Globular Cluster Systems in M...   \n...                                                   ...   \n170613  Enhancement of Magneto-Optic Effects via Large...   \n170614  Explicit and Exact Solutions to a Kolmogorov-P...   \n170615  Linear r-Matrix Algebra for a Hierarchy of One...   \n170616                                Pfaff tau-functions   \n170617  The General Solution of the Complex Monge-Amp\\...   \n\n                                                 comments  \\\n0       15 pages, 15 figures, 3 tables, submitted to M...   \n1                                                27 pages   \n2                     6 pages, 3 figures, accepted in A&A   \n3       This submission has been withdrawn by arXiv ad...   \n4       32 pages (referee format), 9 figures, ApJ acce...   \n...                                                   ...   \n170613                                               None   \n170614  14pages, Latex, to appear in Intern. J. Nonlin...   \n170615                              plain LaTeX, 28 pages   \n170616                                           42 pages   \n170617                        13 pages, latex, no figures   \n\n                                                 abstract  \\\n0         We systematically explore the evolution of t...   \n1         Cofibrations are defined in the category of ...   \n2         We explore the effect of an inhomogeneous ma...   \n3         This paper has been removed by arXiv adminis...   \n4         The most massive elliptical galaxies show a ...   \n...                                                   ...   \n170613    We utilize the generation of large atomic co...   \n170614    Some explicit traveling wave solutions to a ...   \n170615    We consider a hierarchy of many-particle sys...   \n170616    Consider the evolution $$ \\frac{\\pl m_\\iy}{\\...   \n170617    A general solution to the Complex Monge-Amp\\...   \n\n                                                 versions  \\\n0       [{'version': 'v1', 'created': 'Tue, 3 Apr 2007...   \n1       [{'version': 'v1', 'created': 'Tue, 3 Apr 2007...   \n2       [{'version': 'v1', 'created': 'Tue, 3 Apr 2007...   \n3       [{'version': 'v1', 'created': 'Wed, 4 Apr 2007...   \n4       [{'version': 'v1', 'created': 'Wed, 4 Apr 2007...   \n...                                                   ...   \n170613  [{'version': 'v1', 'created': 'Thu, 8 Apr 1999...   \n170614  [{'version': 'v1', 'created': 'Tue, 14 Nov 199...   \n170615  [{'version': 'v1', 'created': 'Wed, 2 Sep 1998...   \n170616  [{'version': 'v1', 'created': 'Wed, 15 Sep 199...   \n170617  [{'version': 'v1', 'created': 'Thu, 16 Sep 199...   \n\n                                           authors_parsed update_date  \n0       [[Yoon, Sung-Chul, ], [Podsiadlowski, Philipp,...  2019-08-19  \n1                      [[Dugmore, B., ], [Ntumba, PP., ]]  2019-08-19  \n2              [[Zaqarashvili, T. V., ], [Murawski, K, ]]  2019-08-19  \n3       [[Aygun, Sezgin, ], [Tarhan, Ismail, ], [Baysa...  2019-10-21  \n4       [[Pipino, Antonio, ], [Puzia, Thomas H., ], [M...  2019-08-19  \n...                                                   ...         ...  \n170613  [[Sautenkov, V. A., ], [Lukin, M. D., ], [Bedn...  2019-08-17  \n170614         [[Ma, Wen-Xiu, ], [Fuchssteiner, Benno, ]]  2019-08-15  \n170615  [[Eilbeck, J C, ], [Enol'skii, V Z, ], [Kuznet...  2019-08-17  \n170616  [[Adler, M., ], [Shiota, T., ], [van Moerbeke,...  2019-08-17  \n170617            [[Fairlie, D. B., ], [Leznov, A. N., ]]  2019-08-21  \n\n[170618 rows x 8 columns]",
      "text/html": "<div>\n<style scoped>\n    .dataframe tbody tr th:only-of-type {\n        vertical-align: middle;\n    }\n\n    .dataframe tbody tr th {\n        vertical-align: top;\n    }\n\n    .dataframe thead th {\n        text-align: right;\n    }\n</style>\n<table border=\"1\" class=\"dataframe\">\n  <thead>\n    <tr style=\"text-align: right;\">\n      <th></th>\n      <th>group</th>\n      <th>submitter</th>\n      <th>title</th>\n      <th>comments</th>\n      <th>abstract</th>\n      <th>versions</th>\n      <th>authors_parsed</th>\n      <th>update_date</th>\n    </tr>\n  </thead>\n  <tbody>\n    <tr>\n      <th>0</th>\n      <td>Physics</td>\n      <td>Sung-Chul Yoon</td>\n      <td>Remnant evolution after a carbon-oxygen white ...</td>\n      <td>15 pages, 15 figures, 3 tables, submitted to M...</td>\n      <td>We systematically explore the evolution of t...</td>\n      <td>[{'version': 'v1', 'created': 'Tue, 3 Apr 2007...</td>\n      <td>[[Yoon, Sung-Chul, ], [Podsiadlowski, Philipp,...</td>\n      <td>2019-08-19</td>\n    </tr>\n    <tr>\n      <th>1</th>\n      <td>Mathematics</td>\n      <td>Patrice Ntumba Pungu</td>\n      <td>Cofibrations in the Category of Frolicher Spac...</td>\n      <td>27 pages</td>\n      <td>Cofibrations are defined in the category of ...</td>\n      <td>[{'version': 'v1', 'created': 'Tue, 3 Apr 2007...</td>\n      <td>[[Dugmore, B., ], [Ntumba, PP., ]]</td>\n      <td>2019-08-19</td>\n    </tr>\n    <tr>\n      <th>2</th>\n      <td>Physics</td>\n      <td>Zaqarashvili</td>\n      <td>Torsional oscillations of longitudinally inhom...</td>\n      <td>6 pages, 3 figures, accepted in A&amp;A</td>\n      <td>We explore the effect of an inhomogeneous ma...</td>\n      <td>[{'version': 'v1', 'created': 'Tue, 3 Apr 2007...</td>\n      <td>[[Zaqarashvili, T. V., ], [Murawski, K, ]]</td>\n      <td>2019-08-19</td>\n    </tr>\n    <tr>\n      <th>3</th>\n      <td>Physics</td>\n      <td>Sezgin Ayg\\\"un</td>\n      <td>On the Energy-Momentum Problem in Static Einst...</td>\n      <td>This submission has been withdrawn by arXiv ad...</td>\n      <td>This paper has been removed by arXiv adminis...</td>\n      <td>[{'version': 'v1', 'created': 'Wed, 4 Apr 2007...</td>\n      <td>[[Aygun, Sezgin, ], [Tarhan, Ismail, ], [Baysa...</td>\n      <td>2019-10-21</td>\n    </tr>\n    <tr>\n      <th>4</th>\n      <td>Physics</td>\n      <td>Antonio Pipino</td>\n      <td>The Formation of Globular Cluster Systems in M...</td>\n      <td>32 pages (referee format), 9 figures, ApJ acce...</td>\n      <td>The most massive elliptical galaxies show a ...</td>\n      <td>[{'version': 'v1', 'created': 'Wed, 4 Apr 2007...</td>\n      <td>[[Pipino, Antonio, ], [Puzia, Thomas H., ], [M...</td>\n      <td>2019-08-19</td>\n    </tr>\n    <tr>\n      <th>...</th>\n      <td>...</td>\n      <td>...</td>\n      <td>...</td>\n      <td>...</td>\n      <td>...</td>\n      <td>...</td>\n      <td>...</td>\n      <td>...</td>\n    </tr>\n    <tr>\n      <th>170613</th>\n      <td>Physics</td>\n      <td>Mikhail Lukin</td>\n      <td>Enhancement of Magneto-Optic Effects via Large...</td>\n      <td>None</td>\n      <td>We utilize the generation of large atomic co...</td>\n      <td>[{'version': 'v1', 'created': 'Thu, 8 Apr 1999...</td>\n      <td>[[Sautenkov, V. A., ], [Lukin, M. D., ], [Bedn...</td>\n      <td>2019-08-17</td>\n    </tr>\n    <tr>\n      <th>170614</th>\n      <td>Physics</td>\n      <td>Wen-Xiu Ma</td>\n      <td>Explicit and Exact Solutions to a Kolmogorov-P...</td>\n      <td>14pages, Latex, to appear in Intern. J. Nonlin...</td>\n      <td>Some explicit traveling wave solutions to a ...</td>\n      <td>[{'version': 'v1', 'created': 'Tue, 14 Nov 199...</td>\n      <td>[[Ma, Wen-Xiu, ], [Fuchssteiner, Benno, ]]</td>\n      <td>2019-08-15</td>\n    </tr>\n    <tr>\n      <th>170615</th>\n      <td>Physics</td>\n      <td>Victor Enolskii</td>\n      <td>Linear r-Matrix Algebra for a Hierarchy of One...</td>\n      <td>plain LaTeX, 28 pages</td>\n      <td>We consider a hierarchy of many-particle sys...</td>\n      <td>[{'version': 'v1', 'created': 'Wed, 2 Sep 1998...</td>\n      <td>[[Eilbeck, J C, ], [Enol'skii, V Z, ], [Kuznet...</td>\n      <td>2019-08-17</td>\n    </tr>\n    <tr>\n      <th>170616</th>\n      <td>Physics</td>\n      <td>Pierre van Moerbeke</td>\n      <td>Pfaff tau-functions</td>\n      <td>42 pages</td>\n      <td>Consider the evolution $$ \\frac{\\pl m_\\iy}{\\...</td>\n      <td>[{'version': 'v1', 'created': 'Wed, 15 Sep 199...</td>\n      <td>[[Adler, M., ], [Shiota, T., ], [van Moerbeke,...</td>\n      <td>2019-08-17</td>\n    </tr>\n    <tr>\n      <th>170617</th>\n      <td>Physics</td>\n      <td>David Fairlie</td>\n      <td>The General Solution of the Complex Monge-Amp\\...</td>\n      <td>13 pages, latex, no figures</td>\n      <td>A general solution to the Complex Monge-Amp\\...</td>\n      <td>[{'version': 'v1', 'created': 'Thu, 16 Sep 199...</td>\n      <td>[[Fairlie, D. B., ], [Leznov, A. N., ]]</td>\n      <td>2019-08-21</td>\n    </tr>\n  </tbody>\n</table>\n<p>170618 rows × 8 columns</p>\n</div>"
     },
     "execution_count": 1,
     "metadata": {},
     "output_type": "execute_result"
    }
   ],
   "source": [
    "import pandas as pd\n",
    "\n",
    "df_all = pd.read_pickle('../../arxiv-metadata-oai-2019.pkl')\n",
    "df_all"
   ]
  },
  {
   "cell_type": "markdown",
   "metadata": {},
   "source": [
    "# 1. 论文摘要和论文标题出现关键词的频率(词云图)"
   ]
  },
  {
   "cell_type": "code",
   "execution_count": 2,
   "metadata": {
    "ExecuteTime": {
     "start_time": "2023-09-26T14:21:10.552914Z",
     "end_time": "2023-09-26T14:21:10.631051Z"
    }
   },
   "outputs": [
    {
     "data": {
      "text/plain": "                      id                                              title  \\\n0              0704.0297  Remnant evolution after a carbon-oxygen white ...   \n1              0704.0342  Cofibrations in the Category of Frolicher Spac...   \n2              0704.0360  Torsional oscillations of longitudinally inhom...   \n3              0704.0525  On the Energy-Momentum Problem in Static Einst...   \n4              0704.0535  The Formation of Globular Cluster Systems in M...   \n...                  ...                                                ...   \n170613  quant-ph/9904032  Enhancement of Magneto-Optic Effects via Large...   \n170614  solv-int/9511005  Explicit and Exact Solutions to a Kolmogorov-P...   \n170615  solv-int/9809008  Linear r-Matrix Algebra for a Hierarchy of One...   \n170616  solv-int/9909010                                Pfaff tau-functions   \n170617  solv-int/9909014  The General Solution of the Complex Monge-Amp\\...   \n\n                                                 abstract  \n0         We systematically explore the evolution of t...  \n1         Cofibrations are defined in the category of ...  \n2         We explore the effect of an inhomogeneous ma...  \n3         This paper has been removed by arXiv adminis...  \n4         The most massive elliptical galaxies show a ...  \n...                                                   ...  \n170613    We utilize the generation of large atomic co...  \n170614    Some explicit traveling wave solutions to a ...  \n170615    We consider a hierarchy of many-particle sys...  \n170616    Consider the evolution $$ \\frac{\\pl m_\\iy}{\\...  \n170617    A general solution to the Complex Monge-Amp\\...  \n\n[170618 rows x 3 columns]",
      "text/html": "<div>\n<style scoped>\n    .dataframe tbody tr th:only-of-type {\n        vertical-align: middle;\n    }\n\n    .dataframe tbody tr th {\n        vertical-align: top;\n    }\n\n    .dataframe thead th {\n        text-align: right;\n    }\n</style>\n<table border=\"1\" class=\"dataframe\">\n  <thead>\n    <tr style=\"text-align: right;\">\n      <th></th>\n      <th>id</th>\n      <th>title</th>\n      <th>abstract</th>\n    </tr>\n  </thead>\n  <tbody>\n    <tr>\n      <th>0</th>\n      <td>0704.0297</td>\n      <td>Remnant evolution after a carbon-oxygen white ...</td>\n      <td>We systematically explore the evolution of t...</td>\n    </tr>\n    <tr>\n      <th>1</th>\n      <td>0704.0342</td>\n      <td>Cofibrations in the Category of Frolicher Spac...</td>\n      <td>Cofibrations are defined in the category of ...</td>\n    </tr>\n    <tr>\n      <th>2</th>\n      <td>0704.0360</td>\n      <td>Torsional oscillations of longitudinally inhom...</td>\n      <td>We explore the effect of an inhomogeneous ma...</td>\n    </tr>\n    <tr>\n      <th>3</th>\n      <td>0704.0525</td>\n      <td>On the Energy-Momentum Problem in Static Einst...</td>\n      <td>This paper has been removed by arXiv adminis...</td>\n    </tr>\n    <tr>\n      <th>4</th>\n      <td>0704.0535</td>\n      <td>The Formation of Globular Cluster Systems in M...</td>\n      <td>The most massive elliptical galaxies show a ...</td>\n    </tr>\n    <tr>\n      <th>...</th>\n      <td>...</td>\n      <td>...</td>\n      <td>...</td>\n    </tr>\n    <tr>\n      <th>170613</th>\n      <td>quant-ph/9904032</td>\n      <td>Enhancement of Magneto-Optic Effects via Large...</td>\n      <td>We utilize the generation of large atomic co...</td>\n    </tr>\n    <tr>\n      <th>170614</th>\n      <td>solv-int/9511005</td>\n      <td>Explicit and Exact Solutions to a Kolmogorov-P...</td>\n      <td>Some explicit traveling wave solutions to a ...</td>\n    </tr>\n    <tr>\n      <th>170615</th>\n      <td>solv-int/9809008</td>\n      <td>Linear r-Matrix Algebra for a Hierarchy of One...</td>\n      <td>We consider a hierarchy of many-particle sys...</td>\n    </tr>\n    <tr>\n      <th>170616</th>\n      <td>solv-int/9909010</td>\n      <td>Pfaff tau-functions</td>\n      <td>Consider the evolution $$ \\frac{\\pl m_\\iy}{\\...</td>\n    </tr>\n    <tr>\n      <th>170617</th>\n      <td>solv-int/9909014</td>\n      <td>The General Solution of the Complex Monge-Amp\\...</td>\n      <td>A general solution to the Complex Monge-Amp\\...</td>\n    </tr>\n  </tbody>\n</table>\n<p>170618 rows × 3 columns</p>\n</div>"
     },
     "execution_count": 2,
     "metadata": {},
     "output_type": "execute_result"
    }
   ],
   "source": [
    "title_and_abstarct_df = df_all[['id', 'title', 'abstract']]\n",
    "title_and_abstarct_df"
   ]
  },
  {
   "cell_type": "code",
   "execution_count": 3,
   "metadata": {
    "ExecuteTime": {
     "start_time": "2023-09-26T14:21:10.584174Z",
     "end_time": "2023-09-26T14:21:10.631051Z"
    }
   },
   "outputs": [],
   "source": [
    "# 定义统计函数\n",
    "def word_count(txt):\n",
    "    word_dic = {}\n",
    "    # 剔除符号\n",
    "    for ch in '''!\"$%&()*+,-./;:<=>?@[\\\\]^_{|}~''\\n\\t ''':\n",
    "        txt = txt.replace(ch, ' ')\n",
    "    for word in txt.split(' '):\n",
    "        # 化为小写字母\n",
    "        word = word.lower()\n",
    "        if word_dic.get(word):\n",
    "            word_dic[word] += 1\n",
    "        else:\n",
    "            word_dic[word] = 1\n",
    "    return word_dic\n",
    "\n",
    "\n",
    "# 使用停词库过滤掉部分无用词\n",
    "def wordsfilter(word_dic):\n",
    "    stopwords = []\n",
    "    # 读取停词库\n",
    "    with open('../source/stopwords.txt') as f:\n",
    "        for word in f:\n",
    "            stopwords.append(word.split('\\n')[0])\n",
    "    for word in list(word_dic.keys()):  # 不能在遍历字典的同时修改字典, 所以转换成 list\n",
    "        if word in stopwords:\n",
    "            del word_dic[word]\n",
    "    # 字典可以使用空字符串来作为 key 所以需要特殊处理一下\n",
    "    del word_dic['']\n",
    "\n",
    "\n",
    "# worldcloud 库 实现词云图\n",
    "def creat_wordcloudImg(word_dic, file_name, word_num=50):\n",
    "    import wordcloud\n",
    "    img = wordcloud.WordCloud(background_color='white', font_path='msyh.ttc', width=2000, height=1500,\n",
    "                              max_words=word_num).generate_from_frequencies(word_dic)\n",
    "    img.to_file(f'../output/img/{file_name}.png')\n",
    "\n",
    "\n",
    "def word_count2df(column, data):\n",
    "    word_dic = {}\n",
    "    for i in data[column]:\n",
    "        for word in word_count(i):\n",
    "            if word_dic.get(word):\n",
    "                word_dic[word] += 1\n",
    "            else:\n",
    "                word_dic[word] = 1\n",
    "    wordsfilter(word_dic)\n",
    "    # 排序\n",
    "    # print(sorted(word_dic.items(), key=lambda x: x[1], reverse=True))\n",
    "    # 创建词云图\n",
    "    creat_wordcloudImg(word_dic, column, word_num=200)\n",
    "\n",
    "    words_data = {'word': [], 'amount': []}\n",
    "    for t in word_dic:\n",
    "        words_data['word'].append(t)\n",
    "        words_data['amount'].append(word_dic[t])\n",
    "    return pd.DataFrame(words_data).sort_values(by='amount', ascending=False)"
   ]
  },
  {
   "cell_type": "code",
   "execution_count": 4,
   "outputs": [
    {
     "data": {
      "text/plain": "                  word  amount\n1620          learning    8862\n88               based    7380\n85             quantum    6757\n247              model    6619\n604           networks    5575\n...                ...     ...\n32552  autoassociative       1\n32551             v354       1\n32549   nanotopography       1\n32547        versioned       1\n54489            pfaff       1\n\n[54490 rows x 2 columns]",
      "text/html": "<div>\n<style scoped>\n    .dataframe tbody tr th:only-of-type {\n        vertical-align: middle;\n    }\n\n    .dataframe tbody tr th {\n        vertical-align: top;\n    }\n\n    .dataframe thead th {\n        text-align: right;\n    }\n</style>\n<table border=\"1\" class=\"dataframe\">\n  <thead>\n    <tr style=\"text-align: right;\">\n      <th></th>\n      <th>word</th>\n      <th>amount</th>\n    </tr>\n  </thead>\n  <tbody>\n    <tr>\n      <th>1620</th>\n      <td>learning</td>\n      <td>8862</td>\n    </tr>\n    <tr>\n      <th>88</th>\n      <td>based</td>\n      <td>7380</td>\n    </tr>\n    <tr>\n      <th>85</th>\n      <td>quantum</td>\n      <td>6757</td>\n    </tr>\n    <tr>\n      <th>247</th>\n      <td>model</td>\n      <td>6619</td>\n    </tr>\n    <tr>\n      <th>604</th>\n      <td>networks</td>\n      <td>5575</td>\n    </tr>\n    <tr>\n      <th>...</th>\n      <td>...</td>\n      <td>...</td>\n    </tr>\n    <tr>\n      <th>32552</th>\n      <td>autoassociative</td>\n      <td>1</td>\n    </tr>\n    <tr>\n      <th>32551</th>\n      <td>v354</td>\n      <td>1</td>\n    </tr>\n    <tr>\n      <th>32549</th>\n      <td>nanotopography</td>\n      <td>1</td>\n    </tr>\n    <tr>\n      <th>32547</th>\n      <td>versioned</td>\n      <td>1</td>\n    </tr>\n    <tr>\n      <th>54489</th>\n      <td>pfaff</td>\n      <td>1</td>\n    </tr>\n  </tbody>\n</table>\n<p>54490 rows × 2 columns</p>\n</div>"
     },
     "execution_count": 4,
     "metadata": {},
     "output_type": "execute_result"
    }
   ],
   "source": [
    "titlewords_df = word_count2df('title', title_and_abstarct_df)\n",
    "titlewords_df"
   ],
   "metadata": {
    "collapsed": false,
    "ExecuteTime": {
     "start_time": "2023-09-26T14:21:10.599799Z",
     "end_time": "2023-09-26T14:21:20.419486Z"
    }
   }
  },
  {
   "cell_type": "code",
   "execution_count": 5,
   "metadata": {
    "ExecuteTime": {
     "start_time": "2023-09-26T14:21:20.419486Z",
     "end_time": "2023-09-26T14:21:40.352811Z"
    }
   },
   "outputs": [
    {
     "data": {
      "text/plain": "              word  amount\n183          paper   45687\n50           model   42507\n26           based   42238\n369           data   35753\n329          study   33479\n...            ...     ...\n94059          drv       1\n94058   supergates       1\n94056   storydroid       1\n94054     clubmark       1\n162399        rary       1\n\n[162400 rows x 2 columns]",
      "text/html": "<div>\n<style scoped>\n    .dataframe tbody tr th:only-of-type {\n        vertical-align: middle;\n    }\n\n    .dataframe tbody tr th {\n        vertical-align: top;\n    }\n\n    .dataframe thead th {\n        text-align: right;\n    }\n</style>\n<table border=\"1\" class=\"dataframe\">\n  <thead>\n    <tr style=\"text-align: right;\">\n      <th></th>\n      <th>word</th>\n      <th>amount</th>\n    </tr>\n  </thead>\n  <tbody>\n    <tr>\n      <th>183</th>\n      <td>paper</td>\n      <td>45687</td>\n    </tr>\n    <tr>\n      <th>50</th>\n      <td>model</td>\n      <td>42507</td>\n    </tr>\n    <tr>\n      <th>26</th>\n      <td>based</td>\n      <td>42238</td>\n    </tr>\n    <tr>\n      <th>369</th>\n      <td>data</td>\n      <td>35753</td>\n    </tr>\n    <tr>\n      <th>329</th>\n      <td>study</td>\n      <td>33479</td>\n    </tr>\n    <tr>\n      <th>...</th>\n      <td>...</td>\n      <td>...</td>\n    </tr>\n    <tr>\n      <th>94059</th>\n      <td>drv</td>\n      <td>1</td>\n    </tr>\n    <tr>\n      <th>94058</th>\n      <td>supergates</td>\n      <td>1</td>\n    </tr>\n    <tr>\n      <th>94056</th>\n      <td>storydroid</td>\n      <td>1</td>\n    </tr>\n    <tr>\n      <th>94054</th>\n      <td>clubmark</td>\n      <td>1</td>\n    </tr>\n    <tr>\n      <th>162399</th>\n      <td>rary</td>\n      <td>1</td>\n    </tr>\n  </tbody>\n</table>\n<p>162400 rows × 2 columns</p>\n</div>"
     },
     "execution_count": 5,
     "metadata": {},
     "output_type": "execute_result"
    }
   ],
   "source": [
    "abstract_dfs = word_count2df('abstract', title_and_abstarct_df)\n",
    "abstract_dfs"
   ]
  },
  {
   "cell_type": "markdown",
   "metadata": {},
   "source": [
    "# 2. 论文更新次数"
   ]
  },
  {
   "cell_type": "code",
   "execution_count": 6,
   "metadata": {
    "ExecuteTime": {
     "start_time": "2023-09-26T14:21:40.352811Z",
     "end_time": "2023-09-26T14:21:40.384066Z"
    }
   },
   "outputs": [
    {
     "data": {
      "text/plain": "                      id                                           versions\n0              0704.0297  [{'version': 'v1', 'created': 'Tue, 3 Apr 2007...\n1              0704.0342  [{'version': 'v1', 'created': 'Tue, 3 Apr 2007...\n2              0704.0360  [{'version': 'v1', 'created': 'Tue, 3 Apr 2007...\n3              0704.0525  [{'version': 'v1', 'created': 'Wed, 4 Apr 2007...\n4              0704.0535  [{'version': 'v1', 'created': 'Wed, 4 Apr 2007...\n...                  ...                                                ...\n170613  quant-ph/9904032  [{'version': 'v1', 'created': 'Thu, 8 Apr 1999...\n170614  solv-int/9511005  [{'version': 'v1', 'created': 'Tue, 14 Nov 199...\n170615  solv-int/9809008  [{'version': 'v1', 'created': 'Wed, 2 Sep 1998...\n170616  solv-int/9909010  [{'version': 'v1', 'created': 'Wed, 15 Sep 199...\n170617  solv-int/9909014  [{'version': 'v1', 'created': 'Thu, 16 Sep 199...\n\n[170618 rows x 2 columns]",
      "text/html": "<div>\n<style scoped>\n    .dataframe tbody tr th:only-of-type {\n        vertical-align: middle;\n    }\n\n    .dataframe tbody tr th {\n        vertical-align: top;\n    }\n\n    .dataframe thead th {\n        text-align: right;\n    }\n</style>\n<table border=\"1\" class=\"dataframe\">\n  <thead>\n    <tr style=\"text-align: right;\">\n      <th></th>\n      <th>id</th>\n      <th>versions</th>\n    </tr>\n  </thead>\n  <tbody>\n    <tr>\n      <th>0</th>\n      <td>0704.0297</td>\n      <td>[{'version': 'v1', 'created': 'Tue, 3 Apr 2007...</td>\n    </tr>\n    <tr>\n      <th>1</th>\n      <td>0704.0342</td>\n      <td>[{'version': 'v1', 'created': 'Tue, 3 Apr 2007...</td>\n    </tr>\n    <tr>\n      <th>2</th>\n      <td>0704.0360</td>\n      <td>[{'version': 'v1', 'created': 'Tue, 3 Apr 2007...</td>\n    </tr>\n    <tr>\n      <th>3</th>\n      <td>0704.0525</td>\n      <td>[{'version': 'v1', 'created': 'Wed, 4 Apr 2007...</td>\n    </tr>\n    <tr>\n      <th>4</th>\n      <td>0704.0535</td>\n      <td>[{'version': 'v1', 'created': 'Wed, 4 Apr 2007...</td>\n    </tr>\n    <tr>\n      <th>...</th>\n      <td>...</td>\n      <td>...</td>\n    </tr>\n    <tr>\n      <th>170613</th>\n      <td>quant-ph/9904032</td>\n      <td>[{'version': 'v1', 'created': 'Thu, 8 Apr 1999...</td>\n    </tr>\n    <tr>\n      <th>170614</th>\n      <td>solv-int/9511005</td>\n      <td>[{'version': 'v1', 'created': 'Tue, 14 Nov 199...</td>\n    </tr>\n    <tr>\n      <th>170615</th>\n      <td>solv-int/9809008</td>\n      <td>[{'version': 'v1', 'created': 'Wed, 2 Sep 1998...</td>\n    </tr>\n    <tr>\n      <th>170616</th>\n      <td>solv-int/9909010</td>\n      <td>[{'version': 'v1', 'created': 'Wed, 15 Sep 199...</td>\n    </tr>\n    <tr>\n      <th>170617</th>\n      <td>solv-int/9909014</td>\n      <td>[{'version': 'v1', 'created': 'Thu, 16 Sep 199...</td>\n    </tr>\n  </tbody>\n</table>\n<p>170618 rows × 2 columns</p>\n</div>"
     },
     "execution_count": 6,
     "metadata": {},
     "output_type": "execute_result"
    }
   ],
   "source": [
    "taget2_df = df_all[['id', 'versions']]\n",
    "taget2_df"
   ]
  },
  {
   "cell_type": "code",
   "execution_count": 7,
   "metadata": {
    "ExecuteTime": {
     "start_time": "2023-09-26T14:21:40.384066Z",
     "end_time": "2023-09-26T14:21:41.851240Z"
    }
   },
   "outputs": [
    {
     "data": {
      "text/plain": "{'1': 100943,\n '10': 28,\n '11': 21,\n '12': 19,\n '13': 8,\n '14': 7,\n '15': 4,\n '16': 3,\n '17': 2,\n '18': 2,\n '19': 3,\n '2': 46290,\n '20': 2,\n '21': 2,\n '22': 1,\n '24': 1,\n '27': 2,\n '3': 15667,\n '34': 1,\n '37': 1,\n '4': 4922,\n '5': 1656,\n '57': 1,\n '6': 611,\n '64': 1,\n '7': 259,\n '8': 113,\n '80': 1,\n '9': 47}"
     },
     "execution_count": 7,
     "metadata": {},
     "output_type": "execute_result"
    }
   ],
   "source": [
    "version_dic = {'id': [], 'version_num': []}\n",
    "# 遍历 version列, 计算更新次数\n",
    "for i in range(len(taget2_df)):\n",
    "    version_dic['id'].append(taget2_df['id'][i])\n",
    "    version_dic['version_num'].append(str(len(list(taget2_df['versions'][i]))))\n",
    "version_df = pd.DataFrame(version_dic)\n",
    "version_dic = version_df.groupby('version_num').size().to_dict()\n",
    "version_dic\n",
    "# color = plt.get_cmap('Set3')(range(len(version_dic)))\n",
    "#\n",
    "# plt.pie(version_dic.values(), labels=version_dic.keys(), autopct='%0.1f%%', colors=color)\n",
    "# plt.show()"
   ]
  },
  {
   "cell_type": "markdown",
   "source": [
    "# 3.论文在 arxiv 系统中所属的类别统计"
   ],
   "metadata": {
    "collapsed": false
   }
  },
  {
   "cell_type": "code",
   "execution_count": 8,
   "outputs": [
    {
     "data": {
      "text/plain": "group\nComputer Science                                                                                 28285\nComputer Science&&Economics                                                                         63\nComputer Science&&Economics&&Electrical Engineering and Systems Science                              2\nComputer Science&&Economics&&Electrical Engineering and Systems Science&&Mathematics                 1\nComputer Science&&Economics&&Electrical Engineering and Systems Science&&Quantitative Finance        2\n                                                                                                 ...  \nQuantitative Biology&&Quantitative Finance&&Statistics                                               1\nQuantitative Biology&&Statistics                                                                   141\nQuantitative Finance                                                                               524\nQuantitative Finance&&Statistics                                                                    52\nStatistics                                                                                        2394\nName: num, Length: 116, dtype: int64"
     },
     "execution_count": 8,
     "metadata": {},
     "output_type": "execute_result"
    }
   ],
   "source": [
    "categorie_num_df = df_all.groupby('group').size().rename('num')\n",
    "categorie_num_df"
   ],
   "metadata": {
    "collapsed": false,
    "ExecuteTime": {
     "start_time": "2023-09-26T14:21:41.851240Z",
     "end_time": "2023-09-26T14:21:41.898161Z"
    }
   }
  }
 ],
 "metadata": {
  "kernelspec": {
   "display_name": "Python 3 (ipykernel)",
   "language": "python",
   "name": "python3"
  },
  "language_info": {
   "codemirror_mode": {
    "name": "ipython",
    "version": 3
   },
   "file_extension": ".py",
   "mimetype": "text/x-python",
   "name": "python",
   "nbconvert_exporter": "python",
   "pygments_lexer": "ipython3",
   "version": "3.10.1"
  }
 },
 "nbformat": 4,
 "nbformat_minor": 1
}
