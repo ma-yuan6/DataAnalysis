{
 "cells": [
  {
   "cell_type": "markdown",
   "source": [
    "# 7、获取论文分类大类并统计每大类论文数量"
   ],
   "metadata": {
    "collapsed": false
   }
  },
  {
   "cell_type": "code",
   "execution_count": 1,
   "outputs": [
    {
     "data": {
      "text/plain": "           group_name      archive_name        archive_id  \\\n0    Computer Science  Computer Science  Computer Science   \n1    Computer Science  Computer Science  Computer Science   \n2    Computer Science  Computer Science  Computer Science   \n3    Computer Science  Computer Science  Computer Science   \n4    Computer Science  Computer Science  Computer Science   \n..                ...               ...               ...   \n150        Statistics        Statistics        Statistics   \n151        Statistics        Statistics        Statistics   \n152        Statistics        Statistics        Statistics   \n153        Statistics        Statistics        Statistics   \n154        Statistics        Statistics        Statistics   \n\n                                       category_name categories  \\\n0                            Artificial Intelligence      cs.AI   \n1                              Hardware Architecture      cs.AR   \n2                           Computational Complexity      cs.CC   \n3    Computational Engineering, Finance, and Science      cs.CE   \n4                             Computational Geometry      cs.CG   \n..                                               ...        ...   \n150                                      Computation    stat.CO   \n151                                      Methodology    stat.ME   \n152                                 Machine Learning    stat.ML   \n153                                 Other Statistics    stat.OT   \n154                                Statistics Theory    stat.TH   \n\n                                  category_description  \n0    Covers all areas of AI except Vision, Robotics...  \n1    Covers systems organization and hardware archi...  \n2    Covers models of computation, complexity class...  \n3    Covers applications of computer science to the...  \n4    Roughly includes material in ACM Subject Class...  \n..                                                 ...  \n150              Algorithms, Simulation, Visualization  \n151  Design, Surveys, Model Selection, Multiple Tes...  \n152  Covers machine learning papers (supervised, un...  \n153  Work in statistics that does not fit into the ...  \n154  stat.TH is an alias for math.ST. Asymptotics, ...  \n\n[155 rows x 6 columns]",
      "text/html": "<div>\n<style scoped>\n    .dataframe tbody tr th:only-of-type {\n        vertical-align: middle;\n    }\n\n    .dataframe tbody tr th {\n        vertical-align: top;\n    }\n\n    .dataframe thead th {\n        text-align: right;\n    }\n</style>\n<table border=\"1\" class=\"dataframe\">\n  <thead>\n    <tr style=\"text-align: right;\">\n      <th></th>\n      <th>group_name</th>\n      <th>archive_name</th>\n      <th>archive_id</th>\n      <th>category_name</th>\n      <th>categories</th>\n      <th>category_description</th>\n    </tr>\n  </thead>\n  <tbody>\n    <tr>\n      <th>0</th>\n      <td>Computer Science</td>\n      <td>Computer Science</td>\n      <td>Computer Science</td>\n      <td>Artificial Intelligence</td>\n      <td>cs.AI</td>\n      <td>Covers all areas of AI except Vision, Robotics...</td>\n    </tr>\n    <tr>\n      <th>1</th>\n      <td>Computer Science</td>\n      <td>Computer Science</td>\n      <td>Computer Science</td>\n      <td>Hardware Architecture</td>\n      <td>cs.AR</td>\n      <td>Covers systems organization and hardware archi...</td>\n    </tr>\n    <tr>\n      <th>2</th>\n      <td>Computer Science</td>\n      <td>Computer Science</td>\n      <td>Computer Science</td>\n      <td>Computational Complexity</td>\n      <td>cs.CC</td>\n      <td>Covers models of computation, complexity class...</td>\n    </tr>\n    <tr>\n      <th>3</th>\n      <td>Computer Science</td>\n      <td>Computer Science</td>\n      <td>Computer Science</td>\n      <td>Computational Engineering, Finance, and Science</td>\n      <td>cs.CE</td>\n      <td>Covers applications of computer science to the...</td>\n    </tr>\n    <tr>\n      <th>4</th>\n      <td>Computer Science</td>\n      <td>Computer Science</td>\n      <td>Computer Science</td>\n      <td>Computational Geometry</td>\n      <td>cs.CG</td>\n      <td>Roughly includes material in ACM Subject Class...</td>\n    </tr>\n    <tr>\n      <th>...</th>\n      <td>...</td>\n      <td>...</td>\n      <td>...</td>\n      <td>...</td>\n      <td>...</td>\n      <td>...</td>\n    </tr>\n    <tr>\n      <th>150</th>\n      <td>Statistics</td>\n      <td>Statistics</td>\n      <td>Statistics</td>\n      <td>Computation</td>\n      <td>stat.CO</td>\n      <td>Algorithms, Simulation, Visualization</td>\n    </tr>\n    <tr>\n      <th>151</th>\n      <td>Statistics</td>\n      <td>Statistics</td>\n      <td>Statistics</td>\n      <td>Methodology</td>\n      <td>stat.ME</td>\n      <td>Design, Surveys, Model Selection, Multiple Tes...</td>\n    </tr>\n    <tr>\n      <th>152</th>\n      <td>Statistics</td>\n      <td>Statistics</td>\n      <td>Statistics</td>\n      <td>Machine Learning</td>\n      <td>stat.ML</td>\n      <td>Covers machine learning papers (supervised, un...</td>\n    </tr>\n    <tr>\n      <th>153</th>\n      <td>Statistics</td>\n      <td>Statistics</td>\n      <td>Statistics</td>\n      <td>Other Statistics</td>\n      <td>stat.OT</td>\n      <td>Work in statistics that does not fit into the ...</td>\n    </tr>\n    <tr>\n      <th>154</th>\n      <td>Statistics</td>\n      <td>Statistics</td>\n      <td>Statistics</td>\n      <td>Statistics Theory</td>\n      <td>stat.TH</td>\n      <td>stat.TH is an alias for math.ST. Asymptotics, ...</td>\n    </tr>\n  </tbody>\n</table>\n<p>155 rows × 6 columns</p>\n</div>"
     },
     "execution_count": 1,
     "metadata": {},
     "output_type": "execute_result"
    }
   ],
   "source": [
    "import pandas as pd\n",
    "\n",
    "groupDF = pd.read_csv('../source/categorys.csv')\n",
    "groupDF"
   ],
   "metadata": {
    "collapsed": false,
    "ExecuteTime": {
     "start_time": "2023-09-26T15:05:47.616092Z",
     "end_time": "2023-09-26T15:05:48.120340Z"
    }
   }
  },
  {
   "cell_type": "code",
   "execution_count": 2,
   "outputs": [
    {
     "data": {
      "text/plain": "                      id             submitter  \\\n0              0704.0297        Sung-Chul Yoon   \n1              0704.0342  Patrice Ntumba Pungu   \n2              0704.0360          Zaqarashvili   \n3              0704.0525        Sezgin Ayg\\\"un   \n4              0704.0535        Antonio Pipino   \n...                  ...                   ...   \n170613  quant-ph/9904032         Mikhail Lukin   \n170614  solv-int/9511005            Wen-Xiu Ma   \n170615  solv-int/9809008       Victor Enolskii   \n170616  solv-int/9909010   Pierre van Moerbeke   \n170617  solv-int/9909014         David Fairlie   \n\n                                                  authors  \\\n0       Sung-Chul Yoon, Philipp Podsiadlowski and Step...   \n1                               B. Dugmore and PP. Ntumba   \n2                        T.V. Zaqarashvili and K Murawski   \n3               Sezgin Aygun, Ismail Tarhan, Husnu Baysal   \n4       Antonio Pipino (1,3), Thomas H. Puzia (2,4), a...   \n...                                                   ...   \n170613  V. A. Sautenkov, M. D. Lukin, C. J. Bednar, G....   \n170614                     Wen-Xiu Ma, Benno Fuchssteiner   \n170615  J C Eilbeck, V Z Enol'skii, V B Kuznetsov, D V...   \n170616            M. Adler, T. Shiota and P. van Moerbeke   \n170617                       D.B. Fairlie and A.N. Leznov   \n\n                                                    title  \\\n0       Remnant evolution after a carbon-oxygen white ...   \n1       Cofibrations in the Category of Frolicher Spac...   \n2       Torsional oscillations of longitudinally inhom...   \n3       On the Energy-Momentum Problem in Static Einst...   \n4       The Formation of Globular Cluster Systems in M...   \n...                                                   ...   \n170613  Enhancement of Magneto-Optic Effects via Large...   \n170614  Explicit and Exact Solutions to a Kolmogorov-P...   \n170615  Linear r-Matrix Algebra for a Hierarchy of One...   \n170616                                Pfaff tau-functions   \n170617  The General Solution of the Complex Monge-Amp\\...   \n\n                                                 comments  \\\n0       15 pages, 15 figures, 3 tables, submitted to M...   \n1                                                27 pages   \n2                     6 pages, 3 figures, accepted in A&A   \n3       This submission has been withdrawn by arXiv ad...   \n4       32 pages (referee format), 9 figures, ApJ acce...   \n...                                                   ...   \n170613                                               None   \n170614  14pages, Latex, to appear in Intern. J. Nonlin...   \n170615                              plain LaTeX, 28 pages   \n170616                                           42 pages   \n170617                        13 pages, latex, no figures   \n\n                           journal-ref                               doi  \\\n0                                 None  10.1111/j.1365-2966.2007.12161.x   \n1                                 None                              None   \n2                                 None        10.1051/0004-6361:20077246   \n3       Chin.Phys.Lett.24:355-358,2007        10.1088/0256-307X/24/2/015   \n4         Astrophys.J.665:295-305,2007                    10.1086/519546   \n...                                ...                               ...   \n170613                            None        10.1103/PhysRevA.62.023810   \n170614                            None      10.1016/0020-7462(95)00064-X   \n170615                            None                              None   \n170616                            None                              None   \n170617                            None       10.1088/0305-4470/33/25/307   \n\n       report-no                                categories license  \\\n0           None                                  astro-ph    None   \n1           None                                   math.AT    None   \n2           None                                  astro-ph    None   \n3           None                                     gr-qc    None   \n4           None                                  astro-ph    None   \n...          ...                                       ...     ...   \n170613      None                                  quant-ph    None   \n170614      None                          solv-int nlin.SI    None   \n170615      None                          solv-int nlin.SI    None   \n170616      None  solv-int adap-org hep-th nlin.AO nlin.SI    None   \n170617      None                          solv-int nlin.SI    None   \n\n                                                 abstract  \\\n0         We systematically explore the evolution of t...   \n1         Cofibrations are defined in the category of ...   \n2         We explore the effect of an inhomogeneous ma...   \n3         This paper has been removed by arXiv adminis...   \n4         The most massive elliptical galaxies show a ...   \n...                                                   ...   \n170613    We utilize the generation of large atomic co...   \n170614    Some explicit traveling wave solutions to a ...   \n170615    We consider a hierarchy of many-particle sys...   \n170616    Consider the evolution $$ \\frac{\\pl m_\\iy}{\\...   \n170617    A general solution to the Complex Monge-Amp\\...   \n\n                                                 versions update_date  \\\n0       [{'version': 'v1', 'created': 'Tue, 3 Apr 2007...  2019-08-19   \n1       [{'version': 'v1', 'created': 'Tue, 3 Apr 2007...  2019-08-19   \n2       [{'version': 'v1', 'created': 'Tue, 3 Apr 2007...  2019-08-19   \n3       [{'version': 'v1', 'created': 'Wed, 4 Apr 2007...  2019-10-21   \n4       [{'version': 'v1', 'created': 'Wed, 4 Apr 2007...  2019-08-19   \n...                                                   ...         ...   \n170613  [{'version': 'v1', 'created': 'Thu, 8 Apr 1999...  2019-08-17   \n170614  [{'version': 'v1', 'created': 'Tue, 14 Nov 199...  2019-08-15   \n170615  [{'version': 'v1', 'created': 'Wed, 2 Sep 1998...  2019-08-17   \n170616  [{'version': 'v1', 'created': 'Wed, 15 Sep 199...  2019-08-17   \n170617  [{'version': 'v1', 'created': 'Thu, 16 Sep 199...  2019-08-21   \n\n                                           authors_parsed        group  \n0       [[Yoon, Sung-Chul, ], [Podsiadlowski, Philipp,...      Physics  \n1                      [[Dugmore, B., ], [Ntumba, PP., ]]  Mathematics  \n2              [[Zaqarashvili, T. V., ], [Murawski, K, ]]      Physics  \n3       [[Aygun, Sezgin, ], [Tarhan, Ismail, ], [Baysa...      Physics  \n4       [[Pipino, Antonio, ], [Puzia, Thomas H., ], [M...      Physics  \n...                                                   ...          ...  \n170613  [[Sautenkov, V. A., ], [Lukin, M. D., ], [Bedn...      Physics  \n170614         [[Ma, Wen-Xiu, ], [Fuchssteiner, Benno, ]]      Physics  \n170615  [[Eilbeck, J C, ], [Enol'skii, V Z, ], [Kuznet...      Physics  \n170616  [[Adler, M., ], [Shiota, T., ], [van Moerbeke,...      Physics  \n170617            [[Fairlie, D. B., ], [Leznov, A. N., ]]      Physics  \n\n[170618 rows x 15 columns]",
      "text/html": "<div>\n<style scoped>\n    .dataframe tbody tr th:only-of-type {\n        vertical-align: middle;\n    }\n\n    .dataframe tbody tr th {\n        vertical-align: top;\n    }\n\n    .dataframe thead th {\n        text-align: right;\n    }\n</style>\n<table border=\"1\" class=\"dataframe\">\n  <thead>\n    <tr style=\"text-align: right;\">\n      <th></th>\n      <th>id</th>\n      <th>submitter</th>\n      <th>authors</th>\n      <th>title</th>\n      <th>comments</th>\n      <th>journal-ref</th>\n      <th>doi</th>\n      <th>report-no</th>\n      <th>categories</th>\n      <th>license</th>\n      <th>abstract</th>\n      <th>versions</th>\n      <th>update_date</th>\n      <th>authors_parsed</th>\n      <th>group</th>\n    </tr>\n  </thead>\n  <tbody>\n    <tr>\n      <th>0</th>\n      <td>0704.0297</td>\n      <td>Sung-Chul Yoon</td>\n      <td>Sung-Chul Yoon, Philipp Podsiadlowski and Step...</td>\n      <td>Remnant evolution after a carbon-oxygen white ...</td>\n      <td>15 pages, 15 figures, 3 tables, submitted to M...</td>\n      <td>None</td>\n      <td>10.1111/j.1365-2966.2007.12161.x</td>\n      <td>None</td>\n      <td>astro-ph</td>\n      <td>None</td>\n      <td>We systematically explore the evolution of t...</td>\n      <td>[{'version': 'v1', 'created': 'Tue, 3 Apr 2007...</td>\n      <td>2019-08-19</td>\n      <td>[[Yoon, Sung-Chul, ], [Podsiadlowski, Philipp,...</td>\n      <td>Physics</td>\n    </tr>\n    <tr>\n      <th>1</th>\n      <td>0704.0342</td>\n      <td>Patrice Ntumba Pungu</td>\n      <td>B. Dugmore and PP. Ntumba</td>\n      <td>Cofibrations in the Category of Frolicher Spac...</td>\n      <td>27 pages</td>\n      <td>None</td>\n      <td>None</td>\n      <td>None</td>\n      <td>math.AT</td>\n      <td>None</td>\n      <td>Cofibrations are defined in the category of ...</td>\n      <td>[{'version': 'v1', 'created': 'Tue, 3 Apr 2007...</td>\n      <td>2019-08-19</td>\n      <td>[[Dugmore, B., ], [Ntumba, PP., ]]</td>\n      <td>Mathematics</td>\n    </tr>\n    <tr>\n      <th>2</th>\n      <td>0704.0360</td>\n      <td>Zaqarashvili</td>\n      <td>T.V. Zaqarashvili and K Murawski</td>\n      <td>Torsional oscillations of longitudinally inhom...</td>\n      <td>6 pages, 3 figures, accepted in A&amp;A</td>\n      <td>None</td>\n      <td>10.1051/0004-6361:20077246</td>\n      <td>None</td>\n      <td>astro-ph</td>\n      <td>None</td>\n      <td>We explore the effect of an inhomogeneous ma...</td>\n      <td>[{'version': 'v1', 'created': 'Tue, 3 Apr 2007...</td>\n      <td>2019-08-19</td>\n      <td>[[Zaqarashvili, T. V., ], [Murawski, K, ]]</td>\n      <td>Physics</td>\n    </tr>\n    <tr>\n      <th>3</th>\n      <td>0704.0525</td>\n      <td>Sezgin Ayg\\\"un</td>\n      <td>Sezgin Aygun, Ismail Tarhan, Husnu Baysal</td>\n      <td>On the Energy-Momentum Problem in Static Einst...</td>\n      <td>This submission has been withdrawn by arXiv ad...</td>\n      <td>Chin.Phys.Lett.24:355-358,2007</td>\n      <td>10.1088/0256-307X/24/2/015</td>\n      <td>None</td>\n      <td>gr-qc</td>\n      <td>None</td>\n      <td>This paper has been removed by arXiv adminis...</td>\n      <td>[{'version': 'v1', 'created': 'Wed, 4 Apr 2007...</td>\n      <td>2019-10-21</td>\n      <td>[[Aygun, Sezgin, ], [Tarhan, Ismail, ], [Baysa...</td>\n      <td>Physics</td>\n    </tr>\n    <tr>\n      <th>4</th>\n      <td>0704.0535</td>\n      <td>Antonio Pipino</td>\n      <td>Antonio Pipino (1,3), Thomas H. Puzia (2,4), a...</td>\n      <td>The Formation of Globular Cluster Systems in M...</td>\n      <td>32 pages (referee format), 9 figures, ApJ acce...</td>\n      <td>Astrophys.J.665:295-305,2007</td>\n      <td>10.1086/519546</td>\n      <td>None</td>\n      <td>astro-ph</td>\n      <td>None</td>\n      <td>The most massive elliptical galaxies show a ...</td>\n      <td>[{'version': 'v1', 'created': 'Wed, 4 Apr 2007...</td>\n      <td>2019-08-19</td>\n      <td>[[Pipino, Antonio, ], [Puzia, Thomas H., ], [M...</td>\n      <td>Physics</td>\n    </tr>\n    <tr>\n      <th>...</th>\n      <td>...</td>\n      <td>...</td>\n      <td>...</td>\n      <td>...</td>\n      <td>...</td>\n      <td>...</td>\n      <td>...</td>\n      <td>...</td>\n      <td>...</td>\n      <td>...</td>\n      <td>...</td>\n      <td>...</td>\n      <td>...</td>\n      <td>...</td>\n      <td>...</td>\n    </tr>\n    <tr>\n      <th>170613</th>\n      <td>quant-ph/9904032</td>\n      <td>Mikhail Lukin</td>\n      <td>V. A. Sautenkov, M. D. Lukin, C. J. Bednar, G....</td>\n      <td>Enhancement of Magneto-Optic Effects via Large...</td>\n      <td>None</td>\n      <td>None</td>\n      <td>10.1103/PhysRevA.62.023810</td>\n      <td>None</td>\n      <td>quant-ph</td>\n      <td>None</td>\n      <td>We utilize the generation of large atomic co...</td>\n      <td>[{'version': 'v1', 'created': 'Thu, 8 Apr 1999...</td>\n      <td>2019-08-17</td>\n      <td>[[Sautenkov, V. A., ], [Lukin, M. D., ], [Bedn...</td>\n      <td>Physics</td>\n    </tr>\n    <tr>\n      <th>170614</th>\n      <td>solv-int/9511005</td>\n      <td>Wen-Xiu Ma</td>\n      <td>Wen-Xiu Ma, Benno Fuchssteiner</td>\n      <td>Explicit and Exact Solutions to a Kolmogorov-P...</td>\n      <td>14pages, Latex, to appear in Intern. J. Nonlin...</td>\n      <td>None</td>\n      <td>10.1016/0020-7462(95)00064-X</td>\n      <td>None</td>\n      <td>solv-int nlin.SI</td>\n      <td>None</td>\n      <td>Some explicit traveling wave solutions to a ...</td>\n      <td>[{'version': 'v1', 'created': 'Tue, 14 Nov 199...</td>\n      <td>2019-08-15</td>\n      <td>[[Ma, Wen-Xiu, ], [Fuchssteiner, Benno, ]]</td>\n      <td>Physics</td>\n    </tr>\n    <tr>\n      <th>170615</th>\n      <td>solv-int/9809008</td>\n      <td>Victor Enolskii</td>\n      <td>J C Eilbeck, V Z Enol'skii, V B Kuznetsov, D V...</td>\n      <td>Linear r-Matrix Algebra for a Hierarchy of One...</td>\n      <td>plain LaTeX, 28 pages</td>\n      <td>None</td>\n      <td>None</td>\n      <td>None</td>\n      <td>solv-int nlin.SI</td>\n      <td>None</td>\n      <td>We consider a hierarchy of many-particle sys...</td>\n      <td>[{'version': 'v1', 'created': 'Wed, 2 Sep 1998...</td>\n      <td>2019-08-17</td>\n      <td>[[Eilbeck, J C, ], [Enol'skii, V Z, ], [Kuznet...</td>\n      <td>Physics</td>\n    </tr>\n    <tr>\n      <th>170616</th>\n      <td>solv-int/9909010</td>\n      <td>Pierre van Moerbeke</td>\n      <td>M. Adler, T. Shiota and P. van Moerbeke</td>\n      <td>Pfaff tau-functions</td>\n      <td>42 pages</td>\n      <td>None</td>\n      <td>None</td>\n      <td>None</td>\n      <td>solv-int adap-org hep-th nlin.AO nlin.SI</td>\n      <td>None</td>\n      <td>Consider the evolution $$ \\frac{\\pl m_\\iy}{\\...</td>\n      <td>[{'version': 'v1', 'created': 'Wed, 15 Sep 199...</td>\n      <td>2019-08-17</td>\n      <td>[[Adler, M., ], [Shiota, T., ], [van Moerbeke,...</td>\n      <td>Physics</td>\n    </tr>\n    <tr>\n      <th>170617</th>\n      <td>solv-int/9909014</td>\n      <td>David Fairlie</td>\n      <td>D.B. Fairlie and A.N. Leznov</td>\n      <td>The General Solution of the Complex Monge-Amp\\...</td>\n      <td>13 pages, latex, no figures</td>\n      <td>None</td>\n      <td>10.1088/0305-4470/33/25/307</td>\n      <td>None</td>\n      <td>solv-int nlin.SI</td>\n      <td>None</td>\n      <td>A general solution to the Complex Monge-Amp\\...</td>\n      <td>[{'version': 'v1', 'created': 'Thu, 16 Sep 199...</td>\n      <td>2019-08-21</td>\n      <td>[[Fairlie, D. B., ], [Leznov, A. N., ]]</td>\n      <td>Physics</td>\n    </tr>\n  </tbody>\n</table>\n<p>170618 rows × 15 columns</p>\n</div>"
     },
     "execution_count": 2,
     "metadata": {},
     "output_type": "execute_result"
    }
   ],
   "source": [
    "data = pd.read_pickle('../../arxiv-metadata-oai-2019.pkl')\n",
    "data"
   ],
   "metadata": {
    "collapsed": false,
    "ExecuteTime": {
     "start_time": "2023-09-26T15:05:48.120340Z",
     "end_time": "2023-09-26T15:05:50.580033Z"
    }
   }
  },
  {
   "cell_type": "code",
   "execution_count": 3,
   "outputs": [
    {
     "data": {
      "text/plain": "['Computer Science',\n 'Economics',\n 'Electrical Engineering and Systems Science',\n 'Mathematics',\n 'Physics',\n 'Quantitative Biology',\n 'Quantitative Finance',\n 'Statistics']"
     },
     "execution_count": 3,
     "metadata": {},
     "output_type": "execute_result"
    }
   ],
   "source": [
    "group_list = sorted(set(groupDF['group_name'].to_list()))\n",
    "group_list"
   ],
   "metadata": {
    "collapsed": false,
    "ExecuteTime": {
     "start_time": "2023-09-26T15:05:50.580033Z",
     "end_time": "2023-09-26T15:05:50.610928Z"
    }
   }
  },
  {
   "cell_type": "code",
   "execution_count": 4,
   "outputs": [
    {
     "data": {
      "text/plain": "[53888, 813, 8052, 51442, 76555, 3176, 1450, 16576]"
     },
     "execution_count": 4,
     "metadata": {},
     "output_type": "execute_result"
    }
   ],
   "source": [
    "group_num = []\n",
    "for gr in group_list:\n",
    "    group_num.append(data[data['group'].str.contains(gr)].shape[0])\n",
    "group_num"
   ],
   "metadata": {
    "collapsed": false,
    "ExecuteTime": {
     "start_time": "2023-09-26T15:05:50.595300Z",
     "end_time": "2023-09-26T15:05:51.250435Z"
    }
   }
  }
 ],
 "metadata": {
  "kernelspec": {
   "display_name": "Python 3 (ipykernel)",
   "language": "python",
   "name": "python3"
  },
  "language_info": {
   "codemirror_mode": {
    "name": "ipython",
    "version": 3
   },
   "file_extension": ".py",
   "mimetype": "text/x-python",
   "name": "python",
   "nbconvert_exporter": "python",
   "pygments_lexer": "ipython3",
   "version": "3.10.1"
  }
 },
 "nbformat": 4,
 "nbformat_minor": 1
}
